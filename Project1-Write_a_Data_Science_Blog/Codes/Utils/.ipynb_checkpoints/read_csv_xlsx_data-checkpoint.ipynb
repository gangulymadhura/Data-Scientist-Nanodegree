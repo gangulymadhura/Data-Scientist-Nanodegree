{
 "cells": [
  {
   "cell_type": "code",
   "execution_count": null,
   "metadata": {},
   "outputs": [],
   "source": [
    "# function for reading in data\n",
    "def func_read_data(input_data_filename,input_data_filepath,file_type,sheet_name=0,index_col=None,parse_dates=False):\n",
    "    '''\n",
    "    INPUT -\n",
    "    input_data_filename : type string \n",
    "                          name of file to be read\n",
    "    input_data_filepath : type string\n",
    "                          location of file to be read\n",
    "    file_type : type string \n",
    "                \"csv\" or \"xlsx\"\n",
    "    sheet_name : type string, default None\n",
    "                 if file_type = \"xlsx\" then name of the sheet to be read\n",
    "    index_col : type string\n",
    "                column that will be the index of the dataframe\n",
    "    parse_dates : type boolean or list of strings\n",
    "                  default False, if True then pandas will try to infer whicg data columns are date/ datetime,\n",
    "                  if list of strings will parse the column that match the strings as dates\n",
    "                    \n",
    "    '''\n",
    "    \n",
    "    if file_type == 'csv':\n",
    "        dat_df = pd.read_csv(input_data_filepath + input_data_filename,index_col,parse_dates)\n",
    "    if file_type == 'xlsx':\n",
    "        dat_df = pd.read_excel(input_data_filepath + input_data_filename,sheet_name,index_col,parse_dates)\n",
    "    print(dat_df.head())\n",
    "    \n",
    "    return(dat_df)\n",
    "\n"
   ]
  }
 ],
 "metadata": {
  "kernelspec": {
   "display_name": "Python 3",
   "language": "python",
   "name": "python3"
  },
  "language_info": {
   "codemirror_mode": {
    "name": "ipython",
    "version": 3
   },
   "file_extension": ".py",
   "mimetype": "text/x-python",
   "name": "python",
   "nbconvert_exporter": "python",
   "pygments_lexer": "ipython3",
   "version": "3.7.6"
  }
 },
 "nbformat": 4,
 "nbformat_minor": 4
}
