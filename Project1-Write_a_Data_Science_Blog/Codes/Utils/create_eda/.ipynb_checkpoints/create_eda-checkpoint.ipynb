{
 "cells": [
  {
   "cell_type": "code",
   "execution_count": null,
   "metadata": {},
   "outputs": [],
   "source": [
    "def create_eda(dat_df):\n",
    "    \n",
    "    '''\n",
    "    INPUT-    \n",
    "    dat_df : dataframe on which EDA is run\n",
    "             \n",
    "    OUTPUT -     \n",
    "    eda_df : eda dataframe \n",
    "            \n",
    "    '''\n",
    "    \n",
    "    summary_df = dat_df.describe(include=\"all\").transpose()\n",
    "    summary_df.insert(0,'col_type',dat_df.dtypes)\n",
    "    summary_df.insert(1,'missing_vals',dat_df.isnull().sum())\n",
    "    return(summary_df)\n",
    "\n",
    "\n"
   ]
  }
 ],
 "metadata": {
  "kernelspec": {
   "display_name": "Python 3",
   "language": "python",
   "name": "python3"
  },
  "language_info": {
   "codemirror_mode": {
    "name": "ipython",
    "version": 3
   },
   "file_extension": ".py",
   "mimetype": "text/x-python",
   "name": "python",
   "nbconvert_exporter": "python",
   "pygments_lexer": "ipython3",
   "version": "3.7.6"
  }
 },
 "nbformat": 4,
 "nbformat_minor": 4
}
